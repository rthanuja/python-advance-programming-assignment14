{
 "cells": [
  {
   "cell_type": "code",
   "execution_count": 1,
   "id": "4db2da2e",
   "metadata": {},
   "outputs": [],
   "source": [
    "'''1. Given a list of numbers, create a function that removes 25% from every number in the list except the smallest number,\n",
    "and adds the total amount removed to the smallest number.'''\n",
    "def show_the_love(l):\n",
    "    m=min(l)\n",
    "    d=l.index(m)\n",
    "    l.remove(m)\n",
    "    for i in range(len(l)):\n",
    "        m+=l[i]*.25\n",
    "        l[i]=l[i]*.75\n",
    "        if l[i]-int(l[i])==0:\n",
    "            l[i]=int(l[i])\n",
    "    if m-int(m)==0:\n",
    "            m=int(m)\n",
    "    l.insert(d,m)\n",
    "    return l"
   ]
  },
  {
   "cell_type": "code",
   "execution_count": 2,
   "id": "bf5c2ecd",
   "metadata": {},
   "outputs": [
    {
     "data": {
      "text/plain": [
       "[3, 3, 3]"
      ]
     },
     "execution_count": 2,
     "metadata": {},
     "output_type": "execute_result"
    }
   ],
   "source": [
    "show_the_love([4, 1, 4])"
   ]
  },
  {
   "cell_type": "code",
   "execution_count": 3,
   "id": "9fe95588",
   "metadata": {},
   "outputs": [
    {
     "data": {
      "text/plain": [
       "[12, 7.5, 14.5]"
      ]
     },
     "execution_count": 3,
     "metadata": {},
     "output_type": "execute_result"
    }
   ],
   "source": [
    "show_the_love([16, 10, 8])"
   ]
  },
  {
   "cell_type": "code",
   "execution_count": 4,
   "id": "257a1a23",
   "metadata": {},
   "outputs": [
    {
     "data": {
      "text/plain": [
       "[27, 75]"
      ]
     },
     "execution_count": 4,
     "metadata": {},
     "output_type": "execute_result"
    }
   ],
   "source": [
    "show_the_love([2, 100])"
   ]
  },
  {
   "cell_type": "code",
   "execution_count": 5,
   "id": "4a2ad2c2",
   "metadata": {},
   "outputs": [],
   "source": [
    "'''2. Create a function that takes in two words as input and returns a list of three elements, in the following order:\n",
    "1.Shared letters between two words.\n",
    "2.Letters unique to word 1.\n",
    "3.Letters unique to word 2.\n",
    "Each element should have unique letters, and have each letter be alphabetically sorted.'''\n",
    "def letters(a,b):\n",
    "    l=[\"\",\"\",\"\"]\n",
    "    for i in set(a+b):\n",
    "        if i in a and i in b:\n",
    "            l[0]+=(i)\n",
    "        elif i in a and i not in b:\n",
    "            l[1]+=(i)\n",
    "        elif i not in a and i in b:\n",
    "            l[2]+=(i)\n",
    "    for i in range(len(l)):\n",
    "        l[i]=list(l[i])\n",
    "        l[i].sort()\n",
    "        l[i]=\"\".join(l[i])\n",
    "    return l\n"
   ]
  },
  {
   "cell_type": "code",
   "execution_count": 6,
   "id": "fe02db23",
   "metadata": {},
   "outputs": [
    {
     "data": {
      "text/plain": [
       "['aps', 'hr', 'o']"
      ]
     },
     "execution_count": 6,
     "metadata": {},
     "output_type": "execute_result"
    }
   ],
   "source": [
    "letters(\"sharp\",\"soap\")"
   ]
  },
  {
   "cell_type": "code",
   "execution_count": 7,
   "id": "94ad52a9",
   "metadata": {},
   "outputs": [
    {
     "data": {
      "text/plain": [
       "['bdor', 'a', 'e']"
      ]
     },
     "execution_count": 7,
     "metadata": {},
     "output_type": "execute_result"
    }
   ],
   "source": [
    "letters(\"board\", \"bored\") "
   ]
  },
  {
   "cell_type": "code",
   "execution_count": 8,
   "id": "9a5eeaad",
   "metadata": {},
   "outputs": [
    {
     "data": {
      "text/plain": [
       "['enp', 'ahis', 'lov']"
      ]
     },
     "execution_count": 8,
     "metadata": {},
     "output_type": "execute_result"
    }
   ],
   "source": [
    "letters(\"happiness\", \"envelope\") "
   ]
  },
  {
   "cell_type": "code",
   "execution_count": 9,
   "id": "108af2a8",
   "metadata": {},
   "outputs": [
    {
     "data": {
      "text/plain": [
       "['flu', 'ekr', 'y']"
      ]
     },
     "execution_count": 9,
     "metadata": {},
     "output_type": "execute_result"
    }
   ],
   "source": [
    "letters(\"kerfuffle\", \"fluffy\") "
   ]
  },
  {
   "cell_type": "code",
   "execution_count": 10,
   "id": "ad343047",
   "metadata": {},
   "outputs": [
    {
     "data": {
      "text/plain": [
       "['ahm', 'ct', '']"
      ]
     },
     "execution_count": 10,
     "metadata": {},
     "output_type": "execute_result"
    }
   ],
   "source": [
    "letters(\"match\", \"ham\") "
   ]
  },
  {
   "cell_type": "code",
   "execution_count": 11,
   "id": "2c7ddf26",
   "metadata": {},
   "outputs": [],
   "source": [
    "#3. Write a function that pairs the first number in an array with the last, the second number with the second to last, etc.\n",
    "def pairs(l):\n",
    "    k=[]\n",
    "    if len(l)%2==0:\n",
    "        n=len(l)//2\n",
    "    else:\n",
    "        n=len(l)//2+1\n",
    "    for i in range(n):\n",
    "        k.append([l[i],l[len(l)-i-1]])\n",
    "    return k      "
   ]
  },
  {
   "cell_type": "code",
   "execution_count": 12,
   "id": "dc290934",
   "metadata": {},
   "outputs": [
    {
     "data": {
      "text/plain": [
       "[[1, 7], [2, 6], [3, 5], [4, 4]]"
      ]
     },
     "execution_count": 12,
     "metadata": {},
     "output_type": "execute_result"
    }
   ],
   "source": [
    "pairs([1, 2, 3, 4, 5, 6, 7])"
   ]
  },
  {
   "cell_type": "code",
   "execution_count": 13,
   "id": "c0f5df4b",
   "metadata": {},
   "outputs": [
    {
     "data": {
      "text/plain": [
       "[[1, 6], [2, 5], [3, 4]]"
      ]
     },
     "execution_count": 13,
     "metadata": {},
     "output_type": "execute_result"
    }
   ],
   "source": [
    "pairs([1, 2, 3, 4, 5, 6])"
   ]
  },
  {
   "cell_type": "code",
   "execution_count": 14,
   "id": "9a870948",
   "metadata": {},
   "outputs": [
    {
     "data": {
      "text/plain": [
       "[[5, 2], [9, 1], [8, 8]]"
      ]
     },
     "execution_count": 14,
     "metadata": {},
     "output_type": "execute_result"
    }
   ],
   "source": [
    "pairs([5, 9, 8, 1, 2])"
   ]
  },
  {
   "cell_type": "code",
   "execution_count": 15,
   "id": "afbfd23c",
   "metadata": {},
   "outputs": [
    {
     "data": {
      "text/plain": [
       "[]"
      ]
     },
     "execution_count": 15,
     "metadata": {},
     "output_type": "execute_result"
    }
   ],
   "source": [
    "pairs([])"
   ]
  },
  {
   "cell_type": "code",
   "execution_count": 16,
   "id": "49028228",
   "metadata": {},
   "outputs": [],
   "source": [
    "#4.Write a function that adds two numbers. The catch, however, is that the numbers will be strings.\n",
    "def add_str_nums(a,b):\n",
    "    try:\n",
    "        if len(a)==0:\n",
    "            a=0\n",
    "        if len(b)==0:\n",
    "            b=0\n",
    "        s=int(a)+int(b)\n",
    "        return s\n",
    "    except:\n",
    "        return -1"
   ]
  },
  {
   "cell_type": "code",
   "execution_count": 17,
   "id": "be9564f4",
   "metadata": {},
   "outputs": [
    {
     "data": {
      "text/plain": [
       "9"
      ]
     },
     "execution_count": 17,
     "metadata": {},
     "output_type": "execute_result"
    }
   ],
   "source": [
    "add_str_nums(\"4\",\"5\")"
   ]
  },
  {
   "cell_type": "code",
   "execution_count": 18,
   "id": "2f5353dc",
   "metadata": {},
   "outputs": [
    {
     "data": {
      "text/plain": [
       "-1"
      ]
     },
     "execution_count": 18,
     "metadata": {},
     "output_type": "execute_result"
    }
   ],
   "source": [
    "add_str_nums(\"abcdefg\",\"3\")"
   ]
  },
  {
   "cell_type": "code",
   "execution_count": 19,
   "id": "27713f5d",
   "metadata": {},
   "outputs": [
    {
     "data": {
      "text/plain": [
       "1"
      ]
     },
     "execution_count": 19,
     "metadata": {},
     "output_type": "execute_result"
    }
   ],
   "source": [
    "add_str_nums(\"1\", \"\") "
   ]
  },
  {
   "cell_type": "code",
   "execution_count": 20,
   "id": "c2d3d842",
   "metadata": {},
   "outputs": [
    {
     "data": {
      "text/plain": [
       "1874682736267235927391936562808774986"
      ]
     },
     "execution_count": 20,
     "metadata": {},
     "output_type": "execute_result"
    }
   ],
   "source": [
    "add_str_nums(\"1874682736267235927359283579235789257\", \"32652983572985729\") "
   ]
  },
  {
   "cell_type": "code",
   "execution_count": 21,
   "id": "70844638",
   "metadata": {},
   "outputs": [],
   "source": [
    "'''5. lPaeesh le pemu mnxit ehess rtnisg! Oh, sorry, that was supposed to say: Please help me unmix these strings!\n",
    "Somehow my strings have all become mixed up; every pair of characters hasbeen swapped. Help me undo this so I can \n",
    "understand my strings again.'''\n",
    "def unmix(s):\n",
    "    s1=\"\"\n",
    "    for i in range(0,len(s),2):\n",
    "        if i==len(s)-1:\n",
    "            s1+=s[i]\n",
    "        else:\n",
    "            s1+=s[i+1]\n",
    "            s1+=s[i]\n",
    "    return s1\n",
    "    "
   ]
  },
  {
   "cell_type": "code",
   "execution_count": 22,
   "id": "d12a68b1",
   "metadata": {},
   "outputs": [
    {
     "data": {
      "text/plain": [
       "'214365'"
      ]
     },
     "execution_count": 22,
     "metadata": {},
     "output_type": "execute_result"
    }
   ],
   "source": [
    "unmix(\"123456\")"
   ]
  },
  {
   "cell_type": "code",
   "execution_count": 23,
   "id": "3b03fd62",
   "metadata": {},
   "outputs": [
    {
     "data": {
      "text/plain": [
       "'This is a mixed up string.'"
      ]
     },
     "execution_count": 23,
     "metadata": {},
     "output_type": "execute_result"
    }
   ],
   "source": [
    "unmix(\"hTsii  s aimex dpus rtni.g\") "
   ]
  },
  {
   "cell_type": "code",
   "execution_count": 24,
   "id": "a44d8dd4",
   "metadata": {},
   "outputs": [
    {
     "data": {
      "text/plain": [
       "'abcde'"
      ]
     },
     "execution_count": 24,
     "metadata": {},
     "output_type": "execute_result"
    }
   ],
   "source": [
    "unmix(\"badce\")"
   ]
  },
  {
   "cell_type": "code",
   "execution_count": null,
   "id": "3948aa5a",
   "metadata": {},
   "outputs": [],
   "source": []
  }
 ],
 "metadata": {
  "kernelspec": {
   "display_name": "Python 3 (ipykernel)",
   "language": "python",
   "name": "python3"
  },
  "language_info": {
   "codemirror_mode": {
    "name": "ipython",
    "version": 3
   },
   "file_extension": ".py",
   "mimetype": "text/x-python",
   "name": "python",
   "nbconvert_exporter": "python",
   "pygments_lexer": "ipython3",
   "version": "3.10.9"
  }
 },
 "nbformat": 4,
 "nbformat_minor": 5
}
